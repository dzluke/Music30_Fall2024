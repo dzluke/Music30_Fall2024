{
 "cells": [
  {
   "cell_type": "markdown",
   "metadata": {},
   "source": [
    "# Assignment 3: Composition with Convolutional Maps\n",
    "Use the following code to experiment with convolving different samples. When you find an interesting creation, save it to use in your assignment by clicking on the three dots in the sample player and selecting \"Download\"."
   ]
  },
  {
   "cell_type": "code",
   "execution_count": null,
   "metadata": {},
   "outputs": [],
   "source": [
    "!pip install librosa\n",
    "import matplotlib.pyplot as plt \n",
    "from ipywidgets import widgets\n",
    "from IPython.display import Audio, display, clear_output\n",
    "import librosa\n",
    "import librosa.display\n",
    "import numpy as np\n",
    "from pathlib import Path\n",
    "\n",
    "SR = 44100\n",
    "\n",
    "def next_power_of_2(x):  \n",
    "    return 1 if x == 0 else 2**(x - 1).bit_length()"
   ]
  },
  {
   "cell_type": "markdown",
   "metadata": {},
   "source": [
    "## Listen to some samples\n",
    "Use the dropdown below to listen to the different samples"
   ]
  },
  {
   "cell_type": "code",
   "execution_count": null,
   "metadata": {},
   "outputs": [],
   "source": [
    "sample_list = [str(file.name) for file in Path('./samples').iterdir() if file.is_file()]\n",
    "\n",
    "sample_dropdown = widgets.Dropdown(\n",
    "    options=sample_list,\n",
    "    description=\"Sample:\"\n",
    ")\n",
    "\n",
    "# Create a button widget\n",
    "button = widgets.Button(description=\"Listen\")\n",
    "\n",
    "# Create an Output widget to display the generated music\n",
    "output_widget = widgets.Output()\n",
    "\n",
    "# Define a function to be called when the button is clicked\n",
    "def on_button_click(b):\n",
    "    with output_widget:\n",
    "        clear_output(wait=True)  # Clear the output widget without clearing the dropdowns\n",
    "        path = Path('./samples') / sample_dropdown.value\n",
    "        x, _ = librosa.load(path, sr=SR)\n",
    "        display(Audio(x, rate=SR))\n",
    "\n",
    "# Attach the function to the button's click event\n",
    "button.on_click(on_button_click)\n",
    "\n",
    "# Display the widgets and button\n",
    "widgets.VBox([sample_dropdown, button, output_widget])"
   ]
  },
  {
   "cell_type": "markdown",
   "metadata": {},
   "source": [
    "## Convolve two samples\n",
    "Use the following code to convolve two samples together. You can use the output of this in your assignment.\n",
    "\n",
    "With sound files we are in the time domain which enables us to use the Convolution Theorem. The theorem states that convolution in the time domain is the same as complex multiplication in the frequency domain. In other words, multiplying the frequency content (spectra) of two signals is the same as performing convolution. So, \n",
    "\n",
    "$$ y(t) = x(t) * h(t) = IFFT(X(k)H(k)) $$ \n",
    "\n",
    "where $X(k)$ and $H(k)$ are frequency representations of the signals $x$ and $h$, and $y$ is our convolved signal."
   ]
  },
  {
   "cell_type": "code",
   "execution_count": null,
   "metadata": {},
   "outputs": [],
   "source": [
    "sample_list = [str(file.name) for file in Path('./samples').iterdir() if file.is_file()]\n",
    "\n",
    "def convolve(x, h):\n",
    "    # the FFT is most efficient when the length of the signal is a power of two\n",
    "    if x.size > h.size:\n",
    "        N = next_power_of_2(x.size)\n",
    "    else:\n",
    "        N = next_power_of_2(h.size)\n",
    "\n",
    "    # calculate the real part of the FFT for each signal \n",
    "    x_fft = np.fft.rfft(x, N)\n",
    "    h_fft = np.fft.rfft(h, N)\n",
    "\n",
    "    # multiply the two signals\n",
    "    convolved = x_fft * h_fft\n",
    "\n",
    "    # use IFFT to convert to time domain signal\n",
    "    y = np.fft.irfft(convolved)\n",
    "\n",
    "    return y\n",
    "\n",
    "\n",
    "# Create Dropdown widgets for order, chord, and bass\n",
    "x_dropdown = widgets.Dropdown(\n",
    "    options=sample_list,\n",
    "    description=\"Sample 1:\",  \n",
    ")\n",
    "\n",
    "h_dropdown = widgets.Dropdown(\n",
    "    options=sample_list,\n",
    "    description=\"Sample 2:\"\n",
    ")\n",
    "\n",
    "# Create a button widget\n",
    "button = widgets.Button(description=\"Convolve\")\n",
    "\n",
    "# Create an Output widget to display the generated music\n",
    "output_widget = widgets.Output()\n",
    "\n",
    "# Define a function to be called when the button is clicked\n",
    "def on_button_click(b):\n",
    "    with output_widget:\n",
    "        clear_output(wait=True)  # Clear the output widget without clearing the dropdowns\n",
    "        print(f\"Convolving {x_dropdown.value} and {h_dropdown.value}\")\n",
    "        path1 = Path('./samples') / x_dropdown.value\n",
    "        path2 = Path('./samples') / h_dropdown.value\n",
    "        x, _ = librosa.load(path1, sr=SR)\n",
    "        h, _ = librosa.load(path2, sr=SR)\n",
    "        y = convolve(x, h)\n",
    "        print(\"Convolution complete\")\n",
    "        display(Audio(y, rate=SR))\n",
    "\n",
    "# Attach the function to the button's click event\n",
    "button.on_click(on_button_click)\n",
    "\n",
    "# Display the widgets and button\n",
    "widgets.VBox([x_dropdown, h_dropdown, button, output_widget])"
   ]
  }
 ],
 "metadata": {
  "kernelspec": {
   "display_name": "labs",
   "language": "python",
   "name": "python3"
  },
  "language_info": {
   "codemirror_mode": {
    "name": "ipython",
    "version": 3
   },
   "file_extension": ".py",
   "mimetype": "text/x-python",
   "name": "python",
   "nbconvert_exporter": "python",
   "pygments_lexer": "ipython3",
   "version": "3.9.12"
  },
  "orig_nbformat": 4
 },
 "nbformat": 4,
 "nbformat_minor": 2
}
